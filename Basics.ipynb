{
 "cells": [
  {
   "cell_type": "code",
   "execution_count": 4,
   "id": "6994d143",
   "metadata": {},
   "outputs": [
    {
     "name": "stdout",
     "output_type": "stream",
     "text": [
      "Enter a number: 121\n",
      "Square Root: 11.0\n"
     ]
    }
   ],
   "source": [
    "#SquareRoot of Number\n",
    "\n",
    "number = float(input(\"Enter a number: \"))\n",
    "sqrt = number ** 0.5\n",
    "print(\"Square Root:\", sqrt)"
   ]
  },
  {
   "cell_type": "code",
   "execution_count": 5,
   "id": "f2be66ca",
   "metadata": {},
   "outputs": [
    {
     "name": "stdout",
     "output_type": "stream",
     "text": [
      "The Quadratic Equation is of form ax2 + bx+ c\n",
      "\n",
      "Enter the value of a: 2\n",
      "Enter the value of b: 4\n",
      "Enter the value of c: 6\n",
      "The roots are: \n",
      "(-1-1.4142135623730951j)\n",
      "(-1+1.4142135623730951j)\n"
     ]
    }
   ],
   "source": [
    "#Solve Quadratic Equation\n",
    "\n",
    "import cmath\n",
    "print(\"The Quadratic Equation is of form ax2 + bx+ c\\n\")  \n",
    "a = int(input(\"Enter the value of a: \"))\n",
    "b = int(input(\"Enter the value of b: \"))\n",
    "c = int(input(\"Enter the value of c: \"))\n",
    "  \n",
    "# Computing the Discriminat value\n",
    "D = (b**2) - (4*a*c)\n",
    "  \n",
    "# find two results\n",
    "root1 = (-b - cmath.sqrt(D))/(2 * a)\n",
    "root2 = (-b + cmath.sqrt(D))/(2 * a)\n",
    "  \n",
    "# printing the results\n",
    "print(\"The roots are: \")\n",
    "print(root1)\n",
    "print(root2)"
   ]
  },
  {
   "cell_type": "code",
   "execution_count": 8,
   "id": "eefb5b39",
   "metadata": {},
   "outputs": [
    {
     "name": "stdout",
     "output_type": "stream",
     "text": [
      "Equation: ax^2 + bx + c \n",
      "Enter a: 1\n",
      "Enter b: -7\n",
      "Enter c: 10\n",
      "The first root:  5.0\n",
      "The second root:  2.0\n"
     ]
    }
   ],
   "source": [
    "#Solve Quadratic Equation\n",
    "\n",
    "print(\"Equation: ax^2 + bx + c \")\n",
    "a=int(input(\"Enter a: \"))\n",
    "b=int(input(\"Enter b: \"))\n",
    "c=int(input(\"Enter c: \"))\n",
    "d=b**2-4*a*c\n",
    "d1=d**0.5\n",
    "if(d<0):\n",
    "    print(\"The roots are imaginary. \")\n",
    "else:\n",
    "    r1=(-b+d1)/2*a\n",
    "    r2=(-b-d1)/2*a\n",
    "    print(\"The first root: \",round(r1,2))\n",
    "    print(\"The second root: \",round(r2,2))"
   ]
  },
  {
   "cell_type": "code",
   "execution_count": 9,
   "id": "8671939e",
   "metadata": {},
   "outputs": [
    {
     "name": "stdout",
     "output_type": "stream",
     "text": [
      "Enter value of x: 7\n",
      "Enter value of y: 11\n",
      "The value of x after swapping: 11\n",
      "The value of y after swapping: 7\n"
     ]
    }
   ],
   "source": [
    "#Swap 2 variables\n",
    "\n",
    "x = input('Enter value of x: ')\n",
    "y = input('Enter value of y: ')\n",
    "\n",
    "# create a temporary variable and swap the values\n",
    "temp = x\n",
    "x = y\n",
    "y = temp\n",
    "\n",
    "print('The value of x after swapping: {}'.format(x))\n",
    "print('The value of y after swapping: {}'.format(y))"
   ]
  },
  {
   "cell_type": "code",
   "execution_count": 10,
   "id": "aa313e03",
   "metadata": {},
   "outputs": [
    {
     "name": "stdout",
     "output_type": "stream",
     "text": [
      "Enter value of x: 7\n",
      "Enter value of y: 11\n",
      "x = 11\n",
      "y = 7\n"
     ]
    }
   ],
   "source": [
    "#Swap 2 variables\n",
    "\n",
    "x = input('Enter value of x: ')\n",
    "y = input('Enter value of y: ')\n",
    "\n",
    "x, y = y, x\n",
    "print(\"x =\", x)\n",
    "print(\"y =\", y)"
   ]
  },
  {
   "cell_type": "code",
   "execution_count": 11,
   "id": "f3cd4920",
   "metadata": {},
   "outputs": [
    {
     "name": "stdout",
     "output_type": "stream",
     "text": [
      "Enter a number: 153\n",
      "153 is an Armstrong number\n"
     ]
    }
   ],
   "source": [
    "#To check Armstrong Number\n",
    "\n",
    "num = int(input(\"Enter a number: \"))\n",
    "# initialize sum\n",
    "sum = 0\n",
    "# find the sum of the cube of each digit\n",
    "temp = num\n",
    "while temp > 0:\n",
    "   digit = temp % 10\n",
    "   sum += digit ** 3\n",
    "   temp //= 10\n",
    "\n",
    "# display the result\n",
    "if num == sum:\n",
    "   print(num,\"is an Armstrong number\")\n",
    "else:\n",
    "   print(num,\"is not an Armstrong number\")"
   ]
  },
  {
   "cell_type": "code",
   "execution_count": 1,
   "id": "839bad18",
   "metadata": {},
   "outputs": [
    {
     "name": "stdout",
     "output_type": "stream",
     "text": [
      "Enter value of x: 54\n",
      "Enter value of y: 24\n",
      "GCD of 54.0 and 24.0 is 6.0\n"
     ]
    }
   ],
   "source": [
    "# Python program to find H.C.F of two numbers\n",
    "\n",
    "\n",
    "def gcd(a, b):\n",
    "    # Everything divides 0\n",
    "    if (a == 0):\n",
    "        return b\n",
    "    if (b == 0):\n",
    "        return a\n",
    "  \n",
    "    # base case\n",
    "    if (a == b):\n",
    "        return a\n",
    "  \n",
    "    # a is greater\n",
    "    if (a > b):\n",
    "        return gcd(a-b, b)\n",
    "    return gcd(a, b-a)\n",
    "  \n",
    "# Driver program to test above function\n",
    "a = float(input('Enter value of x: '))\n",
    "b = float(input('Enter value of y: '))\n",
    "if(gcd(a, b)):\n",
    "    print('GCD of', a, 'and', b, 'is', gcd(a, b))\n",
    "else:\n",
    "    print('not found')"
   ]
  },
  {
   "cell_type": "code",
   "execution_count": 23,
   "id": "ffca5272",
   "metadata": {},
   "outputs": [
    {
     "name": "stdout",
     "output_type": "stream",
     "text": [
      "Enter value of x: 60\n",
      "Enter value of y: 48\n",
      "GCD of  60 and  48 is:  12\n"
     ]
    }
   ],
   "source": [
    "# Python program to find H.C.F of two numbers\n",
    "\n",
    "import math\n",
    "a = int(input('Enter value of x: '))\n",
    "b = int(input('Enter value of y: '))\n",
    "\n",
    "print(\"GCD of \",a,\"and \",b,\"is: \",math.gcd(a,b))"
   ]
  },
  {
   "cell_type": "code",
   "execution_count": 24,
   "id": "19b07a41",
   "metadata": {},
   "outputs": [
    {
     "name": "stdout",
     "output_type": "stream",
     "text": [
      "Enter value of x: 54\n",
      "Enter value of y: 24\n",
      "GCD of  54 and  24 is:  216\n"
     ]
    }
   ],
   "source": [
    "# Python program to find L.C.M of two numbers\n",
    "\n",
    "import math\n",
    "a = int(input('Enter value of x: '))\n",
    "b = int(input('Enter value of y: '))\n",
    "\n",
    "print(\"GCD of \",a,\"and \",b,\"is: \",math.lcm(a,b))"
   ]
  },
  {
   "cell_type": "code",
   "execution_count": 4,
   "id": "b6fedff9",
   "metadata": {},
   "outputs": [
    {
     "name": "stdout",
     "output_type": "stream",
     "text": [
      "[[1, 2, 3], [4, 5, 6], [4, 6, 9]]\n",
      "\n",
      "\n",
      "[[1 4 4]\n",
      " [2 5 6]\n",
      " [3 6 9]]\n"
     ]
    }
   ],
   "source": [
    "# Program to transpose a matrix \n",
    "\n",
    "import numpy \n",
    "matrix=[[1,2,3],\n",
    "        [4,5,6],\n",
    "        [4,6,9]]\n",
    "print(matrix)\n",
    "print(\"\\n\")\n",
    "print(numpy.transpose(matrix)) #or just numpy.T(matrix)"
   ]
  },
  {
   "cell_type": "code",
   "execution_count": 5,
   "id": "6a6becf7",
   "metadata": {},
   "outputs": [
    {
     "name": "stdout",
     "output_type": "stream",
     "text": [
      "[12, 4, 3]\n",
      "[7, 5, 8]\n"
     ]
    }
   ],
   "source": [
    "# Program to transpose a matrix using a nested loop\n",
    "\n",
    "''' Program to transpose a matrix using list comprehension'''\n",
    "\n",
    "X = [[12,7],\n",
    "    [4 ,5],\n",
    "    [3 ,8]]\n",
    "\n",
    "result = [[X[j][i] for j in range(len(X))] for i in range(len(X[0]))]\n",
    "\n",
    "for r in result:\n",
    "   print(r)"
   ]
  },
  {
   "cell_type": "code",
   "execution_count": 20,
   "id": "53dc526a",
   "metadata": {},
   "outputs": [
    {
     "name": "stdout",
     "output_type": "stream",
     "text": [
      "[17, 15, 4]\n",
      "[10, 12, 9]\n",
      "[11, 13, 18]\n"
     ]
    }
   ],
   "source": [
    "X = [[12,7,3],\n",
    "    [4 ,5,6],\n",
    "    [7 ,8,9]]\n",
    "\n",
    "Y = [[5,8,1],\n",
    "    [6,7,3],\n",
    "    [4,5,9]]\n",
    "\n",
    "result= [[X[i][j] + Y[i][j] for j in range(len(X[0]))] for i in range(len(X))]\n",
    "\n",
    "for r in result:\n",
    "   print(r)"
   ]
  },
  {
   "cell_type": "code",
   "execution_count": 21,
   "id": "c9140abd",
   "metadata": {},
   "outputs": [
    {
     "name": "stdout",
     "output_type": "stream",
     "text": [
      "Original dictionary:  {'A': 13, 'B': 7, 'C': 0, 'D': 10}\n",
      "Sorted dictionary:  {'C': 0, 'B': 7, 'D': 10, 'A': 13}\n"
     ]
    }
   ],
   "source": [
    "#Sort a dictionary by value\n",
    "\n",
    "dic= {\"A\": 13, \"B\": 7, \"C\": 0, \"D\": 10 }\n",
    "\n",
    "sorted_dic= {}\n",
    "sorted_values = sorted(dic, key=dic.get) \n",
    "\n",
    "print(\"Original dictionary: \",dic)\n",
    "\n",
    "for i in sorted_values:\n",
    "    sorted_dic[i] = dic[i]\n",
    "print(\"Sorted dictionary: \", sorted_dic)\n"
   ]
  },
  {
   "cell_type": "code",
   "execution_count": 22,
   "id": "8b24f8ff",
   "metadata": {},
   "outputs": [
    {
     "name": "stdout",
     "output_type": "stream",
     "text": [
      "{'A': 90, 'B': 2, 'C': 3}\n",
      "[2, 3, 90]\n"
     ]
    }
   ],
   "source": [
    "#Sort a dictionary by value\n",
    "\n",
    "dt = {\"A\":90, \"B\":2, \"C\":3}\n",
    "\n",
    "sorted_dt_value = sorted(dt.values())\n",
    "print(dt)\n",
    "print(sorted_dt_value)\n"
   ]
  },
  {
   "cell_type": "code",
   "execution_count": 5,
   "id": "9945cca2",
   "metadata": {},
   "outputs": [
    {
     "name": "stdout",
     "output_type": "stream",
     "text": [
      "2014-07-01 14:43:00\n"
     ]
    }
   ],
   "source": [
    "#Convert string to datetime\n",
    "\n",
    "from datetime import datetime\n",
    "date_object = datetime.strptime('Jul 1 2014 2:43PM', '%b %d %Y %I:%M%p')\n",
    "print(date_object)"
   ]
  },
  {
   "cell_type": "code",
   "execution_count": 4,
   "id": "3049d740",
   "metadata": {},
   "outputs": [
    {
     "name": "stdout",
     "output_type": "stream",
     "text": [
      "2011-03-11 11:31:00\n",
      "<class 'datetime.datetime'>\n"
     ]
    }
   ],
   "source": [
    "#Convert string to datetime\n",
    "\n",
    "from dateutil import parser\n",
    "date_time = parser.parse(\"Mar 11 2011 11:31AM\")\n",
    "print(date_time)\n",
    "print(type(date_time))"
   ]
  },
  {
   "cell_type": "code",
   "execution_count": 7,
   "id": "979db93e",
   "metadata": {},
   "outputs": [
    {
     "name": "stdout",
     "output_type": "stream",
     "text": [
      "Enter number: 711\n",
      "Reverse of the number: 117\n"
     ]
    }
   ],
   "source": [
    "#Program to Reverse a Number\n",
    "\n",
    "n=int(input(\"Enter number: \"))\n",
    "rev=0\n",
    "while(n>0):\n",
    "    dig=n%10\n",
    "    rev=rev*10+dig\n",
    "    n=n//10  #%\n",
    "print(\"Reverse of the number:\",rev)"
   ]
  },
  {
   "cell_type": "code",
   "execution_count": 10,
   "id": "a55aaf1d",
   "metadata": {},
   "outputs": [
    {
     "name": "stdout",
     "output_type": "stream",
     "text": [
      "Enter Number: 3\n",
      "Enter Power: 2\n",
      "Power :  9\n"
     ]
    }
   ],
   "source": [
    "num=int(input(\"Enter Number: \"))\n",
    "power=int(input(\"Enter Power: \"))\n",
    "print(\"Power : \",pow(num,power))"
   ]
  },
  {
   "cell_type": "code",
   "execution_count": 11,
   "id": "170ad051",
   "metadata": {},
   "outputs": [
    {
     "name": "stdout",
     "output_type": "stream",
     "text": [
      "Answer = 81\n"
     ]
    }
   ],
   "source": [
    "base = 3\n",
    "exponent = 4\n",
    "\n",
    "result = 1\n",
    "\n",
    "while exponent != 0:\n",
    "    result *= base\n",
    "    exponent-=1\n",
    "\n",
    "print(\"Answer = \" + str(result))"
   ]
  },
  {
   "cell_type": "code",
   "execution_count": 12,
   "id": "516e2b36",
   "metadata": {},
   "outputs": [
    {
     "name": "stdout",
     "output_type": "stream",
     "text": [
      "stop1\n"
     ]
    }
   ],
   "source": [
    "#Countdown time\n",
    "\n",
    "import time\n",
    "\n",
    "def countdown(time_sec):\n",
    "    while time_sec:\n",
    "        mins, secs = divmod(time_sec, 60)\n",
    "        timeformat = '{:02d}:{:02d}'.format(mins, secs)\n",
    "        print(timeformat, end='\\r')\n",
    "        time.sleep(1)\n",
    "        time_sec -= 1\n",
    "\n",
    "    print(\"stop\")\n",
    "\n",
    "countdown(5)"
   ]
  },
  {
   "cell_type": "code",
   "execution_count": 14,
   "id": "6209378b",
   "metadata": {},
   "outputs": [
    {
     "name": "stdout",
     "output_type": "stream",
     "text": [
      "Enter the time in seconds: 5\n",
      "Fire in the hole!!\n"
     ]
    }
   ],
   "source": [
    "import time\n",
    "  \n",
    "# define the countdown func.\n",
    "def countdown(t):\n",
    "    while t:\n",
    "        mins, secs = divmod(t, 60)\n",
    "        timer = '{:02d}:{:02d}'.format(mins, secs)\n",
    "        print(timer, end=\"\\r\")\n",
    "        time.sleep(1)\n",
    "        t -= 1\n",
    "    print('Fire in the hole!!')\n",
    "  # input time in seconds\n",
    "t = input(\"Enter the time in seconds: \")\n",
    "  \n",
    "# function call\n",
    "countdown(int(t))"
   ]
  },
  {
   "cell_type": "code",
   "execution_count": 19,
   "id": "9c27d1ed",
   "metadata": {},
   "outputs": [
    {
     "name": "stdout",
     "output_type": "stream",
     "text": [
      "\n",
      "Input:\n",
      "b'hellloooo'\n",
      "<class 'bytes'>\n",
      "\n",
      "Output:\n",
      "hellloooo\n",
      "<class 'str'>\n"
     ]
    }
   ],
   "source": [
    "# Program for converting bytes\n",
    "# to string using decode()\n",
    "\n",
    "data = b'hellloooo'\n",
    "\n",
    "# display input\n",
    "print('\\nInput:')\n",
    "print(data)\n",
    "print(type(data))\n",
    "\n",
    "# converting\n",
    "output = data.decode()\n",
    "\n",
    "# display output\n",
    "print('\\nOutput:')\n",
    "print(output)\n",
    "print(type(output))\n"
   ]
  },
  {
   "cell_type": "code",
   "execution_count": 20,
   "id": "083cb251",
   "metadata": {},
   "outputs": [
    {
     "name": "stdout",
     "output_type": "stream",
     "text": [
      "Output of Readlines after appending\n",
      "This is Delhi \n",
      "This is Paris \n",
      "This is LondonToday \n",
      "\n",
      "\n"
     ]
    }
   ],
   "source": [
    "file1 = open(\"myfile.txt\", \"w\")\n",
    "L = [\"This is Delhi \\n\", \"This is Paris \\n\", \"This is London\"]\n",
    "file1.writelines(L)\n",
    "file1.close()\n",
    " \n",
    "# Append-adds at last\n",
    "file1 = open(\"myfile.txt\", \"a\")  # append mode\n",
    "file1.write(\"Today \\n\")\n",
    "file1.close()\n",
    " \n",
    "file1 = open(\"myfile.txt\", \"r\")\n",
    "print(\"Output of Readlines after appending\")\n",
    "print(file1.read())\n",
    "print()\n",
    "file1.close()"
   ]
  },
  {
   "cell_type": "code",
   "execution_count": 21,
   "id": "d654a861",
   "metadata": {},
   "outputs": [],
   "source": [
    "# Python program to merge two files \n",
    "data = data2 = \"\" \n",
    "  \n",
    "# Reading data from first file \n",
    "with open('file1.txt') as fp: \n",
    "    data = fp.read() \n",
    "with open('file2.txt') as fp: \n",
    "    data2 = fp.read() \n",
    "# Merging two files into one another file \n",
    "data += \"\\n\"\n",
    "data += data2 \n",
    "with open ('file3.txt', 'w') as fp: \n",
    "    fp.write(data)"
   ]
  },
  {
   "cell_type": "code",
   "execution_count": null,
   "id": "dc4c225e",
   "metadata": {},
   "outputs": [],
   "source": []
  }
 ],
 "metadata": {
  "kernelspec": {
   "display_name": "Python 3 (ipykernel)",
   "language": "python",
   "name": "python3"
  },
  "language_info": {
   "codemirror_mode": {
    "name": "ipython",
    "version": 3
   },
   "file_extension": ".py",
   "mimetype": "text/x-python",
   "name": "python",
   "nbconvert_exporter": "python",
   "pygments_lexer": "ipython3",
   "version": "3.9.7"
  }
 },
 "nbformat": 4,
 "nbformat_minor": 5
}
