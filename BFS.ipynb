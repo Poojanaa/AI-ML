{
 "cells": [
  {
   "cell_type": "code",
   "execution_count": 1,
   "id": "2e0ef958",
   "metadata": {},
   "outputs": [
    {
     "name": "stdout",
     "output_type": "stream",
     "text": [
      "Following is the Breadth-First Search\n",
      "1 2 100 8 15 13 11 38 12 14 111 20 "
     ]
    }
   ],
   "source": [
    "graph = {\n",
    " '1' : ['2','100','8'],\n",
    " '2' : ['15','13'],\n",
    " '8' : ['11'],\n",
    " '11' : ['14'],\n",
    " '12' : [],\n",
    " '13' : ['12'],\n",
    " '14' : ['20'],\n",
    " '15' : ['38'],\n",
    " '20' : [],\n",
    " '38' : ['111'],\n",
    " '100' : [],\n",
    " '111' : []\n",
    " }\n",
    "visited = [] \n",
    "queue = [] \n",
    "def bfs(visited, graph, node):\n",
    "    visited.append(node)\n",
    "    queue.append(node)\n",
    "    while queue: \n",
    "        m = queue.pop(0) \n",
    "        print (m, end = \" \") \n",
    "        for neighbour in graph[m]:\n",
    "            if neighbour not in visited:\n",
    "                visited.append(neighbour)\n",
    "                queue.append(neighbour)\n",
    "print(\"Following is the Breadth-First Search\")\n",
    "bfs(visited, graph, '1') #1 is root"
   ]
  },
  {
   "cell_type": "code",
   "execution_count": null,
   "id": "2917a1db",
   "metadata": {},
   "outputs": [],
   "source": []
  }
 ],
 "metadata": {
  "kernelspec": {
   "display_name": "Python 3 (ipykernel)",
   "language": "python",
   "name": "python3"
  },
  "language_info": {
   "codemirror_mode": {
    "name": "ipython",
    "version": 3
   },
   "file_extension": ".py",
   "mimetype": "text/x-python",
   "name": "python",
   "nbconvert_exporter": "python",
   "pygments_lexer": "ipython3",
   "version": "3.9.7"
  }
 },
 "nbformat": 4,
 "nbformat_minor": 5
}
